{
  "nbformat": 4,
  "nbformat_minor": 0,
  "metadata": {
    "colab": {
      "provenance": [],
      "collapsed_sections": [
        "PbinVPCM81m_",
        "KvngOv5mAatq",
        "S_50M_oWAeTG",
        "TSljpwwTNCl7"
      ],
      "authorship_tag": "ABX9TyM90bvUGPV03getPFh05JG8",
      "include_colab_link": true
    },
    "kernelspec": {
      "name": "python3",
      "display_name": "Python 3"
    },
    "language_info": {
      "name": "python"
    }
  },
  "cells": [
    {
      "cell_type": "markdown",
      "metadata": {
        "id": "view-in-github",
        "colab_type": "text"
      },
      "source": [
        "<a href=\"https://colab.research.google.com/github/ersjunior/3DTS-DataProcessingWithPython/blob/main/3DTS_Processamento_de_dados_com_Python_A2.ipynb\" target=\"_parent\"><img src=\"https://colab.research.google.com/assets/colab-badge.svg\" alt=\"Open In Colab\"/></a>"
      ]
    },
    {
      "cell_type": "markdown",
      "source": [
        "# Extrutura de Dados com Python"
      ],
      "metadata": {
        "id": "PbinVPCM81m_"
      }
    },
    {
      "cell_type": "code",
      "execution_count": 1,
      "metadata": {
        "colab": {
          "base_uri": "https://localhost:8080/"
        },
        "id": "aho2OeOewZpJ",
        "outputId": "5d8fb5a5-d10a-4ef1-9def-362cf9a23fd8"
      },
      "outputs": [
        {
          "output_type": "stream",
          "name": "stdout",
          "text": [
            "6\n",
            "6.5\n"
          ]
        }
      ],
      "source": [
        "# Exemplo de lista e vetores de dados\n",
        "notas = [6,7,9]\n",
        "print(notas[0])\n",
        "notas[0] = 6.5\n",
        "print(notas[0])"
      ]
    },
    {
      "cell_type": "code",
      "source": [
        "# Exemplo de inserção de dados\n",
        "notas.append(10)\n",
        "print(notas)"
      ],
      "metadata": {
        "colab": {
          "base_uri": "https://localhost:8080/"
        },
        "id": "MsArCN5t9CoR",
        "outputId": "a02aca26-10f6-4583-b7e7-d125715f08a7"
      },
      "execution_count": 2,
      "outputs": [
        {
          "output_type": "stream",
          "name": "stdout",
          "text": [
            "[6.5, 7, 9, 10]\n"
          ]
        }
      ]
    },
    {
      "cell_type": "code",
      "source": [
        "# Listas | Vetores e laços:\n",
        "notas = [ 5,5,6,6,7,7,8,8,9,9]\n",
        "soma = 0\n",
        "for i in range(0, len(notas),1):\n",
        " soma = soma + notas[i]\n",
        "media = soma/len(notas)\n",
        "print(media)"
      ],
      "metadata": {
        "colab": {
          "base_uri": "https://localhost:8080/"
        },
        "id": "TFSmX7Uf9HWh",
        "outputId": "04e27d45-775f-4855-f335-58211b5d26f5"
      },
      "execution_count": 5,
      "outputs": [
        {
          "output_type": "stream",
          "name": "stdout",
          "text": [
            "7.0\n"
          ]
        }
      ]
    },
    {
      "cell_type": "code",
      "source": [
        "# Lista | Vetores e laços 2:\n",
        "notas = [ 5,5,6,6,7,7,8,8,9,9]\n",
        "soma = 0\n",
        "for n in notas:\n",
        " soma = soma + n\n",
        "media = soma/len(notas)\n",
        "print(media)"
      ],
      "metadata": {
        "colab": {
          "base_uri": "https://localhost:8080/"
        },
        "id": "2oyCHVG_9THN",
        "outputId": "0a2e4add-77e9-436c-d5e3-38cc63c980bc"
      },
      "execution_count": 7,
      "outputs": [
        {
          "output_type": "stream",
          "name": "stdout",
          "text": [
            "7.0\n"
          ]
        }
      ]
    },
    {
      "cell_type": "code",
      "source": [
        "# Laços | Loops e Listas | Vetores\n",
        "def media_turma():\n",
        "    notas = [5,5,6,6,7,7,8,8,9,9]\n",
        "    soma = 0\n",
        "    for i in range (0,10,1):\n",
        "        soma = soma + notas[i]\n",
        "    return(soma/len(notas))\n",
        "\n",
        "\n",
        "media = media_turma()\n",
        "print(media)"
      ],
      "metadata": {
        "colab": {
          "base_uri": "https://localhost:8080/"
        },
        "id": "-hkIP6mZ9WbN",
        "outputId": "ddbe7a17-4d8c-4202-fe89-d81e13f457ea"
      },
      "execution_count": 9,
      "outputs": [
        {
          "output_type": "stream",
          "name": "stdout",
          "text": [
            "7.0\n"
          ]
        }
      ]
    },
    {
      "cell_type": "code",
      "source": [
        "# Listas: Slicing (fatiando)\n",
        "listas = [1, 2, 3, 4, 5]\n",
        "\n",
        "print(listas[1:1])\n",
        "print(listas[1:3])\n",
        "print(listas[1:-1])\n",
        "print(listas[:2])"
      ],
      "metadata": {
        "colab": {
          "base_uri": "https://localhost:8080/"
        },
        "id": "-jJJHd8V_Equ",
        "outputId": "503e0142-1d4b-4f6d-ebd5-2e5740bf6dd2"
      },
      "execution_count": 11,
      "outputs": [
        {
          "output_type": "stream",
          "name": "stdout",
          "text": [
            "[]\n",
            "[2, 3]\n",
            "[2, 3, 4]\n",
            "[1, 2]\n"
          ]
        }
      ]
    },
    {
      "cell_type": "code",
      "source": [
        "# Exercícios: Listas/Vetores\n",
        "\"\"\"\n",
        "Encontre a maior nota da turma com notas: 7, 6, 9, 9, 8, 8, 10, 5, 6 e 7\n",
        "\"\"\"\n",
        "notas = [7, 6, 9, 9, 8, 8, 10, 5, 6, 7]\n",
        "maior_nota = max(notas)\n",
        "print(\"A maior nota da turma é:\", maior_nota)\n"
      ],
      "metadata": {
        "colab": {
          "base_uri": "https://localhost:8080/"
        },
        "id": "Fg7Tks8r_a2u",
        "outputId": "e2891004-f659-4ad7-ccd4-b2ddcc664aaf"
      },
      "execution_count": 13,
      "outputs": [
        {
          "output_type": "stream",
          "name": "stdout",
          "text": [
            "A maior nota da turma é: 10\n"
          ]
        }
      ]
    },
    {
      "cell_type": "markdown",
      "source": [
        "# Tuplas com python"
      ],
      "metadata": {
        "id": "KvngOv5mAatq"
      }
    },
    {
      "cell_type": "code",
      "source": [
        "# Exercício: Tupla\n",
        "\"\"\"\n",
        "- Crie uma função que receba coordenadas de dois\n",
        "pontos no plano e calcule a distância entre eles.\n",
        "\"\"\"\n",
        "import math\n",
        "\n",
        "def calcular_distancia(ponto1, ponto2):\n",
        "    x1, y1 = ponto1\n",
        "    x2, y2 = ponto2\n",
        "\n",
        "    distancia = math.sqrt((x2 - x1) ** 2 + (y2 - y1) ** 2)\n",
        "    return distancia\n",
        "\n",
        "ponto1 = (2, 3)\n",
        "ponto2 = (5, 7)\n",
        "\n",
        "distancia = calcular_distancia(ponto1, ponto2)\n",
        "print(\"A distância entre os pontos é:\", distancia)"
      ],
      "metadata": {
        "colab": {
          "base_uri": "https://localhost:8080/"
        },
        "id": "-HTz8U00_1SP",
        "outputId": "0e0d060b-8738-43a3-d1c0-ba7f8a8c4e0d"
      },
      "execution_count": 15,
      "outputs": [
        {
          "output_type": "stream",
          "name": "stdout",
          "text": [
            "A distância entre os pontos é: 5.0\n"
          ]
        }
      ]
    },
    {
      "cell_type": "code",
      "source": [
        "# Exercício: Tupla\n",
        "\"\"\"\n",
        "- Crie uma função similar mas que sejam dois\n",
        "pontos no espaço tridimensional\n",
        "\"\"\"\n",
        "import math\n",
        "\n",
        "def calcular_distancia_3d(ponto1, ponto2):\n",
        "    x1, y1, z1 = ponto1\n",
        "    x2, y2, z2 = ponto2\n",
        "\n",
        "    distancia = math.sqrt((x2 - x1) ** 2 + (y2 - y1) ** 2 + (z2 - z1) ** 2)\n",
        "    return distancia\n",
        "\n",
        "ponto1 = (2, 3, 4)\n",
        "ponto2 = (5, 7, 1)\n",
        "\n",
        "distancia = calcular_distancia_3d(ponto1, ponto2)\n",
        "print(\"A distância entre os pontos é:\", distancia)"
      ],
      "metadata": {
        "colab": {
          "base_uri": "https://localhost:8080/"
        },
        "id": "RBOtb1KDAFU3",
        "outputId": "12dd6e5b-abde-412a-baea-e4efca3ff85c"
      },
      "execution_count": 16,
      "outputs": [
        {
          "output_type": "stream",
          "name": "stdout",
          "text": [
            "A distância entre os pontos é: 5.830951894845301\n"
          ]
        }
      ]
    },
    {
      "cell_type": "markdown",
      "source": [
        "# Dicionários com Python"
      ],
      "metadata": {
        "id": "S_50M_oWAeTG"
      }
    },
    {
      "cell_type": "code",
      "source": [
        "# Dicionários\n",
        "\"\"\"\n",
        "Dicionários assim como as listas e tuplas são para armazenar dados\n",
        "porém um dicionário não é uma sequência de valores ordenados,\n",
        "desse modo não podemos acessar esses dados por um índice como\n",
        "fazemos em listas e tuplas.\n",
        "\"\"\"\n",
        "turma_dic = {\n",
        "    \"Eliezer\": 10,\n",
        "    \"Junior\": 9\n",
        "}\n",
        "\n",
        "\"\"\"\n",
        "Para acessar os dados de um dicionário fazemos por meio de chaves\n",
        "(nomes que iremos associar aos dados)\n",
        "\"\"\"\n",
        "\n",
        "print(turma_dic[\"Eliezer\"])"
      ],
      "metadata": {
        "colab": {
          "base_uri": "https://localhost:8080/"
        },
        "id": "dP4SP2YFAWb_",
        "outputId": "5aefcf11-bee8-4735-a6e0-090439f3c924"
      },
      "execution_count": 17,
      "outputs": [
        {
          "output_type": "stream",
          "name": "stdout",
          "text": [
            "10\n"
          ]
        }
      ]
    },
    {
      "cell_type": "code",
      "source": [
        "# Dicionários: Remover elementos\n",
        "\"\"\"\n",
        "Para saber o tamanho usamos ainda len() e para demover del()\n",
        "\"\"\"\n",
        "\n",
        "print('Tamanho: ', len(turma_dic))\n",
        "\n",
        "del turma_dic[\"Junior\"]\n",
        "print('Tamanho: ', len(turma_dic))\n",
        "print(turma_dic)"
      ],
      "metadata": {
        "colab": {
          "base_uri": "https://localhost:8080/"
        },
        "id": "J8KONAR1BLWQ",
        "outputId": "ca54e9ac-8433-4aec-ffd9-3ee1244ea238"
      },
      "execution_count": 18,
      "outputs": [
        {
          "output_type": "stream",
          "name": "stdout",
          "text": [
            "Tamanho:  2\n",
            "Tamanho:  1\n",
            "{'Eliezer': 10}\n"
          ]
        }
      ]
    },
    {
      "cell_type": "code",
      "source": [
        "# Laços/Loops e Listas/Vetores\n",
        "\n",
        "def media_dicionario_turma(dic_turma):\n",
        "    soma = 0\n",
        "    for nome_aluno in dic_turma:\n",
        "        nota_aluno = dic_turma[nome_aluno]\n",
        "        soma = soma + nota_aluno\n",
        "    return soma / len(dic_turma)\n",
        "\n",
        "turma_dic = {\n",
        "    \"Eliézer\": 10.0,\n",
        "    \"Junior\": 5.0\n",
        "}\n",
        "\n",
        "mdt = media_dicionario_turma(turma_dic)\n",
        "print(mdt)"
      ],
      "metadata": {
        "colab": {
          "base_uri": "https://localhost:8080/"
        },
        "id": "j1Ij6U8NBoZ3",
        "outputId": "0eee63a0-e830-4e30-82c0-f72c86353d84"
      },
      "execution_count": 19,
      "outputs": [
        {
          "output_type": "stream",
          "name": "stdout",
          "text": [
            "7.5\n"
          ]
        }
      ]
    },
    {
      "cell_type": "code",
      "source": [
        "# Laços/Loops e Listas/Vetores 2\n",
        "\n",
        "def calc_media(notas):\n",
        "    soma = 0\n",
        "    for i in range(0, len(notas),1):\n",
        "        soma = soma + notas[i]\n",
        "    return soma / len(notas)\n",
        "\n",
        "def notas_final(turma):\n",
        "    soma = 0\n",
        "    for nome_aluno in turma:\n",
        "        notas_aluno = turma[nome_aluno]\n",
        "        media_aluno = calc_media(notas_aluno)\n",
        "        soma = soma + media_aluno\n",
        "        print(nome_aluno +\" \"+ str(media_aluno))\n",
        "    return soma / len(turma)\n",
        "\n",
        "turma_final = {\n",
        "    \"Eliézer\": [10.0, 9.0, 9.5],\n",
        "    \"Junior\": [5.0, 7.5, 9.5]\n",
        "}\n",
        "\n",
        "mdt = notas_final(turma_final)\n",
        "print('Media turma', mdt)"
      ],
      "metadata": {
        "colab": {
          "base_uri": "https://localhost:8080/"
        },
        "id": "94bs4GwELzBi",
        "outputId": "77ddd612-9b16-4421-9f52-a4b6c4189d8e"
      },
      "execution_count": 20,
      "outputs": [
        {
          "output_type": "stream",
          "name": "stdout",
          "text": [
            "Eliézer 9.5\n",
            "Junior 7.333333333333333\n",
            "Media turma 8.416666666666666\n"
          ]
        }
      ]
    },
    {
      "cell_type": "markdown",
      "source": [
        "# Numpy - Vetores e Arrays"
      ],
      "metadata": {
        "id": "TSljpwwTNCl7"
      }
    },
    {
      "cell_type": "code",
      "source": [
        "# Usando vetores e arrays com numpy\n",
        "import numpy as np\n",
        "\n",
        "a1 = [1, 2, 3]\n",
        "print(a1)\n",
        "\n",
        "a2 = np.array([1, 2, 3])\n",
        "print(a2)"
      ],
      "metadata": {
        "colab": {
          "base_uri": "https://localhost:8080/"
        },
        "id": "l4154ohjNAFr",
        "outputId": "93f26d3c-b8b2-44ed-8f18-cbbbf7d81c5f"
      },
      "execution_count": 21,
      "outputs": [
        {
          "output_type": "stream",
          "name": "stdout",
          "text": [
            "[1, 2, 3]\n",
            "[1 2 3]\n"
          ]
        }
      ]
    },
    {
      "cell_type": "code",
      "source": [
        "# numpy: Matrizes (2D)\n",
        "b = np.array([\n",
        "    [1,2,3],[4,5,6]\n",
        "])\n",
        "\n",
        "print(b)\n",
        "print(b.shape)"
      ],
      "metadata": {
        "colab": {
          "base_uri": "https://localhost:8080/"
        },
        "id": "6jhnduvPNWkz",
        "outputId": "497fe305-f8b0-4e60-f317-0f11b7627e00"
      },
      "execution_count": 22,
      "outputs": [
        {
          "output_type": "stream",
          "name": "stdout",
          "text": [
            "[[1 2 3]\n",
            " [4 5 6]]\n",
            "(2, 3)\n"
          ]
        }
      ]
    },
    {
      "cell_type": "code",
      "source": [
        "# Opção usual de acesso\n",
        "print(b[1,1])\n",
        "\n",
        "# Outra opção de acesso\n",
        "print(b[1][1])"
      ],
      "metadata": {
        "colab": {
          "base_uri": "https://localhost:8080/"
        },
        "id": "epkx8q2ANz_L",
        "outputId": "001ca423-6c60-4f3d-bc75-87bf6011de06"
      },
      "execution_count": 25,
      "outputs": [
        {
          "output_type": "stream",
          "name": "stdout",
          "text": [
            "5\n",
            "5\n"
          ]
        }
      ]
    },
    {
      "cell_type": "code",
      "source": [
        "# numpy: Outras Inicializações \n",
        "zero2_2 = np.zeros((2,2))\n",
        "print(zero2_2)"
      ],
      "metadata": {
        "colab": {
          "base_uri": "https://localhost:8080/"
        },
        "id": "Go6qFv7HQzHo",
        "outputId": "61e84c3c-7452-425f-fff9-1aedca050c58"
      },
      "execution_count": 26,
      "outputs": [
        {
          "output_type": "stream",
          "name": "stdout",
          "text": [
            "[[0. 0.]\n",
            " [0. 0.]]\n"
          ]
        }
      ]
    },
    {
      "cell_type": "code",
      "source": [
        "ones3_3 = np.ones((3,3))\n",
        "print(ones3_3)"
      ],
      "metadata": {
        "colab": {
          "base_uri": "https://localhost:8080/"
        },
        "id": "9qVRppzKREag",
        "outputId": "4b828259-086a-471e-a36a-af3504807b9e"
      },
      "execution_count": 27,
      "outputs": [
        {
          "output_type": "stream",
          "name": "stdout",
          "text": [
            "[[1. 1. 1.]\n",
            " [1. 1. 1.]\n",
            " [1. 1. 1.]]\n"
          ]
        }
      ]
    },
    {
      "cell_type": "code",
      "source": [
        "# numpy: Slicing\n",
        "a = np.array([[1,2,3,4],\n",
        "              [5,6,7,8],\n",
        "              [9,10,11,12]])\n",
        "\n",
        "print(a)\n",
        "\n",
        "fatia = a[2:3,0:4]\n",
        "print('FATIA')\n",
        "print(fatia)"
      ],
      "metadata": {
        "colab": {
          "base_uri": "https://localhost:8080/"
        },
        "id": "Mn1GZ50rRQP4",
        "outputId": "4a67e604-7ad4-4007-945e-1f063bf6c412"
      },
      "execution_count": 28,
      "outputs": [
        {
          "output_type": "stream",
          "name": "stdout",
          "text": [
            "[[ 1  2  3  4]\n",
            " [ 5  6  7  8]\n",
            " [ 9 10 11 12]]\n",
            "FATIA\n",
            "[[ 9 10 11 12]]\n"
          ]
        }
      ]
    },
    {
      "cell_type": "code",
      "source": [
        "# numpy: Query\n",
        "a = np.array([[1,2],\n",
        "              [3,4],\n",
        "              [5,6]])\n",
        "\n",
        "print(a)\n",
        "print(a[a>2])\n"
      ],
      "metadata": {
        "colab": {
          "base_uri": "https://localhost:8080/"
        },
        "id": "M9UvDTzcRvGr",
        "outputId": "0b54c4a4-b27e-4f82-d816-6e683de5794e"
      },
      "execution_count": 29,
      "outputs": [
        {
          "output_type": "stream",
          "name": "stdout",
          "text": [
            "[[1 2]\n",
            " [3 4]\n",
            " [5 6]]\n",
            "[3 4 5 6]\n"
          ]
        }
      ]
    },
    {
      "cell_type": "code",
      "source": [
        "# numpy: Soma (elemento a elemento)\n",
        "x = np.array([1,2])\n",
        "y = np.array([5,6])\n",
        "z = x + y\n",
        "\n",
        "print(z)"
      ],
      "metadata": {
        "colab": {
          "base_uri": "https://localhost:8080/"
        },
        "id": "2jRPE6DzSEtq",
        "outputId": "2f7c7cdf-2dfb-45d7-b064-bc3a6e9f46f2"
      },
      "execution_count": 30,
      "outputs": [
        {
          "output_type": "stream",
          "name": "stdout",
          "text": [
            "[6 8]\n"
          ]
        }
      ]
    },
    {
      "cell_type": "code",
      "source": [
        "# numpy: Soma (elemento a elemento)\n",
        "x = [1,2]\n",
        "y = [5,6]\n",
        "z = x + y\n",
        "\n",
        "print(z)"
      ],
      "metadata": {
        "colab": {
          "base_uri": "https://localhost:8080/"
        },
        "id": "V6OkYmjcSa5S",
        "outputId": "a87eb2aa-08b1-4721-e266-117f2b6dbbfa"
      },
      "execution_count": 31,
      "outputs": [
        {
          "output_type": "stream",
          "name": "stdout",
          "text": [
            "[1, 2, 5, 6]\n"
          ]
        }
      ]
    },
    {
      "cell_type": "code",
      "source": [
        "# numpy: Subtração (elemento a elemento)\n",
        "x = np.array([[1,2],[3,4]])\n",
        "y = np.array([[5,6],[7,8]])\n",
        "z = x - y\n",
        "\n",
        "print(z)"
      ],
      "metadata": {
        "colab": {
          "base_uri": "https://localhost:8080/"
        },
        "id": "Vj6lzcxxSkEa",
        "outputId": "07a4a114-0626-4b84-c9f4-d44c09e59ae9"
      },
      "execution_count": 33,
      "outputs": [
        {
          "output_type": "stream",
          "name": "stdout",
          "text": [
            "[[-4 -4]\n",
            " [-4 -4]]\n"
          ]
        }
      ]
    },
    {
      "cell_type": "code",
      "source": [
        "# numpy: Divisão (elemento a elemento)\n",
        "x = np.array([[1,2],[3,4]])\n",
        "y = np.array([[5,6],[7,8]])\n",
        "z = x / y\n",
        "\n",
        "print(z)"
      ],
      "metadata": {
        "colab": {
          "base_uri": "https://localhost:8080/"
        },
        "id": "KDj3hWcXSvYr",
        "outputId": "78a60af4-1cf2-4590-da6a-b2e36e160478"
      },
      "execution_count": 34,
      "outputs": [
        {
          "output_type": "stream",
          "name": "stdout",
          "text": [
            "[[0.2        0.33333333]\n",
            " [0.42857143 0.5       ]]\n"
          ]
        }
      ]
    },
    {
      "cell_type": "code",
      "source": [
        "# numpy: Multiplicação (elemento a elemento)\n",
        "x = np.array([[1,2],[3,4]])\n",
        "y = np.array([[5,6],[7,8]])\n",
        "z = x * y\n",
        "\n",
        "print(z)"
      ],
      "metadata": {
        "colab": {
          "base_uri": "https://localhost:8080/"
        },
        "id": "LMR8xErbS6vC",
        "outputId": "a3cd6991-a776-4c35-a46a-e8e034082288"
      },
      "execution_count": 35,
      "outputs": [
        {
          "output_type": "stream",
          "name": "stdout",
          "text": [
            "[[ 5 12]\n",
            " [21 32]]\n"
          ]
        }
      ]
    },
    {
      "cell_type": "code",
      "source": [
        "# numpy: Multiplicação de MATRIZES\n",
        "notas = np.array([\n",
        "    [7,8,9],\n",
        "    [5,6,7],\n",
        "    [5,5,5],\n",
        "    [9,9,9]\n",
        "])\n",
        "\n",
        "peso = np.array([\n",
        "    [0.4],\n",
        "    [0.4],\n",
        "    [0.2]\n",
        "])\n",
        "\n",
        "medias = notas @ peso\n",
        "\n",
        "print(notas)\n",
        "print(notas.shape)\n",
        "print()\n",
        "print(peso)\n",
        "print(peso.shape)\n",
        "print()\n",
        "print(medias)"
      ],
      "metadata": {
        "colab": {
          "base_uri": "https://localhost:8080/"
        },
        "id": "CQvWUW8qTARz",
        "outputId": "ab3f5dae-f1d9-4356-fff2-52b208e27dc8"
      },
      "execution_count": 37,
      "outputs": [
        {
          "output_type": "stream",
          "name": "stdout",
          "text": [
            "[[7 8 9]\n",
            " [5 6 7]\n",
            " [5 5 5]\n",
            " [9 9 9]]\n",
            "(4, 3)\n",
            "\n",
            "[[0.4]\n",
            " [0.4]\n",
            " [0.2]]\n",
            "(3, 1)\n",
            "\n",
            "[[7.8]\n",
            " [5.8]\n",
            " [5. ]\n",
            " [9. ]]\n"
          ]
        }
      ]
    },
    {
      "cell_type": "code",
      "source": [
        "# numpy: Transposta\n",
        "notas_t = notas.T\n",
        "print(notas_t)\n",
        "print(notas_t.shape)\n",
        "print()\n",
        "\n",
        "peso_t = peso.T\n",
        "print(peso_t)\n",
        "print(peso_t.shape)\n",
        "print()\n",
        "\n",
        "medias = peso_t @ notas_t\n",
        "print(medias)"
      ],
      "metadata": {
        "colab": {
          "base_uri": "https://localhost:8080/"
        },
        "id": "P33WEZEXTosT",
        "outputId": "56b9facf-7056-4c40-a932-7ca6bf83e84f"
      },
      "execution_count": 42,
      "outputs": [
        {
          "output_type": "stream",
          "name": "stdout",
          "text": [
            "[[7 5 5 9]\n",
            " [8 6 5 9]\n",
            " [9 7 5 9]]\n",
            "(3, 4)\n",
            "\n",
            "[[0.4 0.4 0.2]]\n",
            "(1, 3)\n",
            "\n",
            "[[7.8 5.8 5.  9. ]]\n"
          ]
        }
      ]
    },
    {
      "cell_type": "code",
      "source": [
        "# numpy: Funções\n",
        "\"\"\"\n",
        "Diversas Funções, como:\n",
        "• mean( ) # média\n",
        "• std( ) # desvio padrão\n",
        "• min( ) # mínimo\n",
        "• max( ) # máximo\n",
        "• sum( ) # soma\n",
        "\"\"\"\n",
        "media = medias.mean()\n",
        "desv = medias.std()\n",
        "menor = medias.min()\n",
        "maior = medias.max()\n",
        "soma = medias.sum()\n",
        "\n",
        "print(media)\n",
        "print(desv)\n",
        "print(menor)\n",
        "print(maior)\n",
        "print(soma)"
      ],
      "metadata": {
        "colab": {
          "base_uri": "https://localhost:8080/"
        },
        "id": "0JpBFvtnUI3t",
        "outputId": "21c77404-c838-4d35-fe61-c7fe938e1e0b"
      },
      "execution_count": 43,
      "outputs": [
        {
          "output_type": "stream",
          "name": "stdout",
          "text": [
            "6.9\n",
            "1.5842979517754858\n",
            "5.0\n",
            "9.0\n",
            "27.6\n"
          ]
        }
      ]
    },
    {
      "cell_type": "markdown",
      "source": [
        "# Exercícios - Finais"
      ],
      "metadata": {
        "id": "IyDG0KRiVGSC"
      }
    },
    {
      "cell_type": "code",
      "source": [
        "# Exercício 1:\n",
        "\"\"\"\n",
        "1) Escreva um programa que lê do teclado e registra em uma matriz (3x6), \n",
        "a receita de 3 (três) empresas do último semestre (6 meses). \n",
        "Após ler a receita de cada empresa mes a mes, seu programa deve então retornar a \n",
        "Média e o Desvio Padrão Populacional das receitas do semestre \n",
        "para cada uma das empresas.\n",
        "\"\"\"\n",
        "import numpy as np\n",
        "\n",
        "# Inicializar a matriz de receitas\n",
        "receitas = np.zeros((3, 6))\n",
        "\n",
        "# Ler as receitas de cada empresa mês a mês\n",
        "for i in range(3):\n",
        "    print(\"Empresa\", i+1)\n",
        "    for j in range(6):\n",
        "        receitas[i, j] = float(input(\"Digite a receita do mês {}: \".format(j+1)))\n",
        "\n",
        "# Calcular a média e o desvio padrão populacional das receitas do semestre para cada empresa\n",
        "medias = np.mean(receitas, axis=1)\n",
        "desvios_padrao = np.std(receitas, axis=1, ddof=0)\n",
        "\n",
        "# Imprimir os resultados\n",
        "for i in range(3):\n",
        "    print(\"Empresa\", i+1)\n",
        "    print(\"Média:\", medias[i])\n",
        "    print(\"Desvio padrão populacional:\", desvios_padrao[i])\n",
        "    print()"
      ],
      "metadata": {
        "colab": {
          "base_uri": "https://localhost:8080/"
        },
        "id": "HszIIz3oVA6O",
        "outputId": "0ddd4742-4c80-458d-b415-f131b56d9ce9"
      },
      "execution_count": 44,
      "outputs": [
        {
          "output_type": "stream",
          "name": "stdout",
          "text": [
            "Empresa 1\n",
            "Digite a receita do mês 1: 1200\n",
            "Digite a receita do mês 2: 1300\n",
            "Digite a receita do mês 3: 1500\n",
            "Digite a receita do mês 4: 1100\n",
            "Digite a receita do mês 5: 1200\n",
            "Digite a receita do mês 6: 1400\n",
            "Empresa 2\n",
            "Digite a receita do mês 1: 2150\n",
            "Digite a receita do mês 2: 2320\n",
            "Digite a receita do mês 3: 2000\n",
            "Digite a receita do mês 4: 2640\n",
            "Digite a receita do mês 5: 2350\n",
            "Digite a receita do mês 6: 2000\n",
            "Empresa 3\n",
            "Digite a receita do mês 1: 1780\n",
            "Digite a receita do mês 2: 1910\n",
            "Digite a receita do mês 3: 1870\n",
            "Digite a receita do mês 4: 1650\n",
            "Digite a receita do mês 5: 1800\n",
            "Digite a receita do mês 6: 1900\n",
            "Empresa 1\n",
            "Média: 1283.3333333333333\n",
            "Desvio padrão populacional: 134.37096247164249\n",
            "\n",
            "Empresa 2\n",
            "Média: 2243.3333333333335\n",
            "Desvio padrão populacional: 224.25184255405546\n",
            "\n",
            "Empresa 3\n",
            "Média: 1818.3333333333333\n",
            "Desvio padrão populacional: 89.33395522171598\n",
            "\n"
          ]
        }
      ]
    },
    {
      "cell_type": "code",
      "source": [
        "# Exercício 2:\n",
        "\"\"\"\n",
        "2) Crie um programa no qual você deve ler do teclado todas as compras de 6 (seis) ações/ativos \n",
        "realizadas em um dia, coletando informações de preço e quantidade para cada uma. \n",
        "Armazene essa informação em uma matriz 1x6 com os preços. \n",
        "Já as quantidades armazenadas em uma outra matriz 6x1. De posse dessas duas informações \n",
        "realize o cálculo final do montante em dinheiro de ativos adquiridos neste dia para sua carteira.\n",
        "\"\"\"\n",
        "import numpy as np\n",
        "\n",
        "# Ler os preços das ações\n",
        "precos = np.zeros((1, 6))\n",
        "for i in range(6):\n",
        "    precos[0, i] = float(input(\"Digite o preço da ação {}: \".format(i+1)))\n",
        "\n",
        "# Ler as quantidades das ações\n",
        "quantidades = np.zeros((6, 1))\n",
        "for i in range(6):\n",
        "    quantidades[i, 0] = float(input(\"Digite a quantidade da ação {}: \".format(i+1)))\n",
        "\n",
        "# Calcular o montante em dinheiro de ativos adquiridos\n",
        "montante = np.dot(precos, quantidades)\n",
        "\n",
        "# Imprimir o resultado\n",
        "print(\"Montante em dinheiro de ativos adquiridos: R$\", montante[0, 0])"
      ],
      "metadata": {
        "colab": {
          "base_uri": "https://localhost:8080/"
        },
        "id": "O1zaZqewVfh_",
        "outputId": "f33d660a-724f-4c5a-9764-5215cc596055"
      },
      "execution_count": 45,
      "outputs": [
        {
          "output_type": "stream",
          "name": "stdout",
          "text": [
            "Digite o preço da ação 1: 12.75\n",
            "Digite o preço da ação 2: 15.97\n",
            "Digite o preço da ação 3: 23.70\n",
            "Digite o preço da ação 4: 1.20\n",
            "Digite o preço da ação 5: 3.96\n",
            "Digite o preço da ação 6: 8.97\n",
            "Digite a quantidade da ação 1: 125\n",
            "Digite a quantidade da ação 2: 89\n",
            "Digite a quantidade da ação 3: 97\n",
            "Digite a quantidade da ação 4: 350\n",
            "Digite a quantidade da ação 5: 135\n",
            "Digite a quantidade da ação 6: 20\n",
            "Montante em dinheiro de ativos adquiridos: R$ 6447.98\n"
          ]
        }
      ]
    },
    {
      "cell_type": "code",
      "source": [
        "# Exercício 3:\n",
        "\"\"\"\n",
        "3) Uma corretora que trabalha com 3 ativos principais VALE5, PETR4 e BBDC4, \n",
        "gostaria de registrar os rendimentos da semana em uma matriz 5x3. \n",
        "Crie um programa que lê do teclado dia-a-dia o rendimento de cada um dos 3 ativos. \n",
        "Em seguida o programa deve fazer o cálculo de rendimento acumulado de cada ativo na semana. \n",
        "E por fim, apresenta o rendimento médio total do fundo.\n",
        "\"\"\"\n",
        "import numpy as np\n",
        "\n",
        "# Inicializar a matriz de rendimentos\n",
        "rendimentos = np.zeros((5, 3))\n",
        "\n",
        "# Ler os rendimentos de cada ativo dia-a-dia\n",
        "for i in range(5):\n",
        "    print(\"Dia\", i+1)\n",
        "    for j in range(3):\n",
        "        rendimentos[i, j] = float(input(\"Digite o rendimento do ativo {}: \".format(j+1)))\n",
        "\n",
        "# Calcular o rendimento acumulado de cada ativo na semana\n",
        "rendimentos_acumulados = np.cumprod(1 + rendimentos, axis=0) - 1\n",
        "\n",
        "# Calcular o rendimento médio total do fundo\n",
        "rendimento_medio = np.mean(rendimentos)\n",
        "\n",
        "# Imprimir os resultados\n",
        "for j in range(3):\n",
        "    print(\"Ativo\", j+1)\n",
        "    print(\"Rendimento acumulado na semana:\", rendimentos_acumulados[-1, j])\n",
        "    print()\n",
        "print(\"Rendimento médio total do fundo:\", rendimento_medio)"
      ],
      "metadata": {
        "colab": {
          "base_uri": "https://localhost:8080/"
        },
        "id": "CVsIu2vcV1qP",
        "outputId": "719a1a66-4f14-4e92-c2e3-74039d7f9718"
      },
      "execution_count": 47,
      "outputs": [
        {
          "output_type": "stream",
          "name": "stdout",
          "text": [
            "Dia 1\n",
            "Digite o rendimento do ativo 1: 15\n",
            "Digite o rendimento do ativo 2: 2\n",
            "Digite o rendimento do ativo 3: 10\n",
            "Dia 2\n",
            "Digite o rendimento do ativo 1: 4\n",
            "Digite o rendimento do ativo 2: 6\n",
            "Digite o rendimento do ativo 3: 1\n",
            "Dia 3\n",
            "Digite o rendimento do ativo 1: 10\n",
            "Digite o rendimento do ativo 2: 19\n",
            "Digite o rendimento do ativo 3: 12\n",
            "Dia 4\n",
            "Digite o rendimento do ativo 1: 5\n",
            "Digite o rendimento do ativo 2: 6\n",
            "Digite o rendimento do ativo 3: 4\n",
            "Dia 5\n",
            "Digite o rendimento do ativo 1: 3\n",
            "Digite o rendimento do ativo 2: 2\n",
            "Digite o rendimento do ativo 3: 3\n",
            "Ativo 1\n",
            "Rendimento acumulado na semana: 21119.0\n",
            "\n",
            "Ativo 2\n",
            "Rendimento acumulado na semana: 8819.0\n",
            "\n",
            "Ativo 3\n",
            "Rendimento acumulado na semana: 5719.0\n",
            "\n",
            "Rendimento médio total do fundo: 6.8\n"
          ]
        }
      ]
    },
    {
      "cell_type": "code",
      "source": [
        "# Exercício 4:\n",
        "\"\"\"\n",
        "4) As 3 principais cidades brasileiras estão preocupadas com a taxa de ocupação de hospitais durante o COVID. \n",
        "Crie um programa que lê do teclado dia a dia para cada cidade e registra em uma matriz 7x3 a \n",
        "taxa de ocupação dos hospitais dessas 3 cidades nos última semana (7 dias). \n",
        "Seu programa deve apresentar então o mínimo, máximo e média de ocupação dos leitos para cada cidade.\n",
        "\"\"\"\n",
        "import numpy as np\n",
        "\n",
        "# Inicializar a matriz de taxa de ocupação dos leitos\n",
        "taxas_ocupacao = np.zeros((7, 3))\n",
        "\n",
        "# Ler as taxas de ocupação dos leitos dia a dia para cada cidade\n",
        "for i in range(7):\n",
        "    print(\"Dia\", i+1)\n",
        "    for j in range(3):\n",
        "        taxas_ocupacao[i, j] = float(input(\"Digite a taxa de ocupação da cidade {}: \".format(j+1)))\n",
        "\n",
        "# Calcular o mínimo, máximo e média de ocupação dos leitos para cada cidade\n",
        "minimos = np.min(taxas_ocupacao, axis=0)\n",
        "maximos = np.max(taxas_ocupacao, axis=0)\n",
        "medias = np.mean(taxas_ocupacao, axis=0)\n",
        "\n",
        "# Imprimir os resultados\n",
        "for j in range(3):\n",
        "    print(\"Cidade\", j+1)\n",
        "    print(\"Mínimo de ocupação:\", minimos[j])\n",
        "    print(\"Máximo de ocupação:\", maximos[j])\n",
        "    print(\"Média de ocupação:\", medias[j])\n",
        "    print()"
      ],
      "metadata": {
        "colab": {
          "base_uri": "https://localhost:8080/"
        },
        "id": "NSs0uS_MWOLg",
        "outputId": "8adc5c45-8258-4af2-df45-64e04eabb91f"
      },
      "execution_count": 48,
      "outputs": [
        {
          "output_type": "stream",
          "name": "stdout",
          "text": [
            "Dia 1\n",
            "Digite a taxa de ocupação da cidade 1: 55000\n",
            "Digite a taxa de ocupação da cidade 2: 30000\n",
            "Digite a taxa de ocupação da cidade 3: 12000\n",
            "Dia 2\n",
            "Digite a taxa de ocupação da cidade 1: 45000\n",
            "Digite a taxa de ocupação da cidade 2: 22000\n",
            "Digite a taxa de ocupação da cidade 3: 11000\n",
            "Dia 3\n",
            "Digite a taxa de ocupação da cidade 1: 33000\n",
            "Digite a taxa de ocupação da cidade 2: 17000\n",
            "Digite a taxa de ocupação da cidade 3: 80000\n",
            "Dia 4\n",
            "Digite a taxa de ocupação da cidade 1: 24000\n",
            "Digite a taxa de ocupação da cidade 2: 12000\n",
            "Digite a taxa de ocupação da cidade 3: -80000\n",
            "Dia 5\n",
            "Digite a taxa de ocupação da cidade 1: 18000\n",
            "Digite a taxa de ocupação da cidade 2: 9000\n",
            "Digite a taxa de ocupação da cidade 3: 3000\n",
            "Dia 6\n",
            "Digite a taxa de ocupação da cidade 1: 7000\n",
            "Digite a taxa de ocupação da cidade 2: 1000\n",
            "Digite a taxa de ocupação da cidade 3: 333\n",
            "Dia 7\n",
            "Digite a taxa de ocupação da cidade 1: 1300\n",
            "Digite a taxa de ocupação da cidade 2: 299\n",
            "Digite a taxa de ocupação da cidade 3: -15\n",
            "Cidade 1\n",
            "Mínimo de ocupação: 1300.0\n",
            "Máximo de ocupação: 55000.0\n",
            "Média de ocupação: 26185.714285714286\n",
            "\n",
            "Cidade 2\n",
            "Mínimo de ocupação: 299.0\n",
            "Máximo de ocupação: 30000.0\n",
            "Média de ocupação: 13042.714285714286\n",
            "\n",
            "Cidade 3\n",
            "Mínimo de ocupação: -80000.0\n",
            "Máximo de ocupação: 80000.0\n",
            "Média de ocupação: 3759.714285714286\n",
            "\n"
          ]
        }
      ]
    }
  ]
}