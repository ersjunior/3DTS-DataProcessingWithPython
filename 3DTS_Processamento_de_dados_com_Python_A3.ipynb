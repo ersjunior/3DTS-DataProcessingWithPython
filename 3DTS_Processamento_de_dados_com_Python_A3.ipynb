{
  "nbformat": 4,
  "nbformat_minor": 0,
  "metadata": {
    "colab": {
      "provenance": [],
      "authorship_tag": "ABX9TyNlSieUMuCN6RvQzRqFihVO",
      "include_colab_link": true
    },
    "kernelspec": {
      "name": "python3",
      "display_name": "Python 3"
    },
    "language_info": {
      "name": "python"
    }
  },
  "cells": [
    {
      "cell_type": "markdown",
      "metadata": {
        "id": "view-in-github",
        "colab_type": "text"
      },
      "source": [
        "<a href=\"https://colab.research.google.com/github/ersjunior/3DTS-DataProcessingWithPython/blob/main/3DTS_Processamento_de_dados_com_Python_A3.ipynb\" target=\"_parent\"><img src=\"https://colab.research.google.com/assets/colab-badge.svg\" alt=\"Open In Colab\"/></a>"
      ]
    },
    {
      "cell_type": "markdown",
      "source": [
        "# Orientação a Objetos com Python"
      ],
      "metadata": {
        "id": "kDM9qewvyhtB"
      }
    },
    {
      "cell_type": "code",
      "source": [
        "# Criando uma função simples\n",
        "def nc(n,sn):\n",
        "  return n+' '+sn\n",
        "\n",
        "nome = 'Eliézer'\n",
        "sobrenome = 'Júnior'\n",
        "\n",
        "lb = nc(nome, sobrenome)\n",
        "print(lb)"
      ],
      "metadata": {
        "colab": {
          "base_uri": "https://localhost:8080/"
        },
        "id": "DtPiz9KdzdkD",
        "outputId": "71c1e7ab-e7e8-490a-8b88-8a4427399bd0"
      },
      "execution_count": 2,
      "outputs": [
        {
          "output_type": "stream",
          "name": "stdout",
          "text": [
            "Eliézer Júnior\n"
          ]
        }
      ]
    },
    {
      "cell_type": "code",
      "execution_count": 8,
      "metadata": {
        "colab": {
          "base_uri": "https://localhost:8080/"
        },
        "id": "L1tzT9RHrv0q",
        "outputId": "24a568b0-457e-49fe-8fcc-1c38398f7706"
      },
      "outputs": [
        {
          "output_type": "stream",
          "name": "stdout",
          "text": [
            "Eliézer Júnior\n",
            "Apollo Ramos\n",
            "Helena Ramos\n"
          ]
        }
      ],
      "source": [
        "# Criando uma classe orientada a objeto\n",
        "class Pessoa():\n",
        "    def __init__(self, n, s):\n",
        "        self.nome = n\n",
        "        self.sobrenome = s\n",
        "    def nc(self):\n",
        "        return self.nome + ' ' + self.sobrenome\n",
        "\n",
        "\n",
        "ej = Pessoa('Eliézer', 'Júnior')\n",
        "ar = Pessoa('Apollo', 'Ramos')\n",
        "hr = Pessoa('Helena', 'Ramos')\n",
        "\n",
        "print(ej.nc())\n",
        "print(ar.nc())\n",
        "print(hr.nc())"
      ]
    },
    {
      "cell_type": "code",
      "source": [
        "# Exercício de orientação a objetos\n",
        "'''\n",
        "Crie uma calculadora com a capacidade das operações\n",
        "aritméticas básicas: adição, subtração, multiplicação e\n",
        "divisão.\n",
        "'''\n",
        "\n",
        "class Calculadora:\n",
        "    def __init__(self):\n",
        "        pass\n",
        "\n",
        "    def somar(self, a, b):\n",
        "        return a + b\n",
        "\n",
        "    def subtrair(self, a, b):\n",
        "        return a - b\n",
        "\n",
        "    def multiplicar(self, a, b):\n",
        "        return a * b\n",
        "\n",
        "    def dividir(self, a, b):\n",
        "        if b != 0:\n",
        "            return a / b\n",
        "        else:\n",
        "            return \"Erro: Divisão por zero.\"\n",
        "\n",
        "\n",
        "# Exemplo de uso da calculadora\n",
        "calc = Calculadora()\n",
        "\n",
        "print(\"Soma:\", calc.somar(5, 3))\n",
        "print(\"Subtração:\", calc.subtrair(5, 3))\n",
        "print(\"Multiplicação:\", calc.multiplicar(5, 3))\n",
        "print(\"Divisão:\", calc.dividir(5, 3))\n",
        "print(\"Divisão por zero:\", calc.dividir(5, 0))\n"
      ],
      "metadata": {
        "colab": {
          "base_uri": "https://localhost:8080/"
        },
        "id": "CIgiqXRl2u8A",
        "outputId": "2a089e4d-339b-4dc5-d98b-d99d86192229"
      },
      "execution_count": 9,
      "outputs": [
        {
          "output_type": "stream",
          "name": "stdout",
          "text": [
            "Soma: 8\n",
            "Subtração: 2\n",
            "Multiplicação: 15\n",
            "Divisão: 1.6666666666666667\n",
            "Divisão por zero: Erro: Divisão por zero.\n"
          ]
        }
      ]
    },
    {
      "cell_type": "code",
      "source": [
        "# Exercício de orientação a objetos\n",
        "'''\n",
        "Criar uma entidade com capacidade de emprestar e\n",
        "tomar dinheiro emprestado. Como exemplo de\n",
        "execução crie duas instâncias desta, no qual uma\n",
        "empresta um valor v para a outra:\n",
        "'''\n",
        "class Entidade:\n",
        "    def __init__(self, nome, saldo):\n",
        "        self.nome = nome\n",
        "        self.saldo = saldo\n",
        "\n",
        "    def emprestar(self, outra_entidade, valor):\n",
        "        if self.saldo >= valor:\n",
        "            self.saldo -= valor\n",
        "            outra_entidade.tomar_emprestado(valor)\n",
        "            print(f\"{self.nome} emprestou R${valor} para {outra_entidade.nome}\")\n",
        "        else:\n",
        "            print(f\"{self.nome} não possui saldo suficiente para emprestar R${valor}\")\n",
        "\n",
        "    def tomar_emprestado(self, valor):\n",
        "        self.saldo += valor\n",
        "        print(f\"{self.nome} tomou emprestado R${valor}\")\n",
        "\n",
        "# Criando duas instâncias da classe Entidade\n",
        "entidade1 = Entidade(\"Entidade 1\", 1000)\n",
        "entidade2 = Entidade(\"Entidade 2\", 500)\n",
        "\n",
        "# Emprestando um valor de uma entidade para outra\n",
        "entidade1.emprestar(entidade2, 200)\n"
      ],
      "metadata": {
        "colab": {
          "base_uri": "https://localhost:8080/"
        },
        "id": "gznJDFNI9ycG",
        "outputId": "bddb79db-46c5-4c0e-b762-ef1d31d75966"
      },
      "execution_count": 12,
      "outputs": [
        {
          "output_type": "stream",
          "name": "stdout",
          "text": [
            "Entidade 2 tomou emprestado R$200\n",
            "Entidade 1 emprestou R$200 para Entidade 2\n"
          ]
        }
      ]
    },
    {
      "cell_type": "code",
      "source": [
        "# Hierarquia e Herança\n",
        "\"\"\"\n",
        "Define uma relação de Herança entre classes\n",
        "A herança caracteriza a Generalização\n",
        "de e Especialização\n",
        "Fundamenta o Polimorfismo\n",
        "\"\"\"\n",
        "class Figura: \n",
        "  def __init__(self, c): \n",
        "    self.cor = c \n",
        "    \n",
        "  def area(): pass\n",
        "  \n",
        "class Quadrado(Figura): \n",
        "  def __init__(self,c,l): \n",
        "    super().__init__(c) \n",
        "    self.lado = l \n",
        "    \n",
        "  def area(self): \n",
        "    return self.lado**2\n",
        "      \n",
        "class Retangulo(Figura): \n",
        "  def __init__(self,c,b,a): \n",
        "    super().__init__(c) \n",
        "    self.base =b \n",
        "    self.altura =a \n",
        "  def area(self): \n",
        "    return self.base * self.altura\n",
        "      \n",
        "class Triangulo(Figura): \n",
        "  def __init__(self,c,b,a): \n",
        "    super().__init__(c) \n",
        "    self.base =b \n",
        "    self.altura =a \n",
        "  def area(self): \n",
        "    return (self.base * self.altura)/2\n",
        "    \n",
        "class Circulo(Figura): \n",
        "  def __init__(self,c,r): \n",
        "    super().__init__(c) \n",
        "    self.raio = r \n",
        "  def area(self): \n",
        "    return 3.14 * self.raio**2\n",
        "    \n",
        "q = Quadrado(\"azul\",2) \n",
        "r = Retangulo(\"azul\",2,3) \n",
        "t = Triangulo(\"azul\",2,3) \n",
        "c = Circulo(\"azul\",2) \n",
        "figs=[q,r,t,c] \n",
        "for f in figs: \n",
        "  print(f.area())"
      ],
      "metadata": {
        "colab": {
          "base_uri": "https://localhost:8080/"
        },
        "id": "WrT0o8EG99nW",
        "outputId": "1addc65f-b7f3-4688-c7fc-f588425b3553"
      },
      "execution_count": 13,
      "outputs": [
        {
          "output_type": "stream",
          "name": "stdout",
          "text": [
            "4\n",
            "6\n",
            "3.0\n",
            "12.56\n"
          ]
        }
      ]
    },
    {
      "cell_type": "markdown",
      "source": [
        "# Exercícios Finais"
      ],
      "metadata": {
        "id": "wF70oO7mPnwD"
      }
    },
    {
      "cell_type": "code",
      "source": [
        "# Exercício 1\n",
        "# Calc. de Festa de Jantar\n",
        "\"\"\"\n",
        "Construir uma calculadora que seja capaz de calcular o\n",
        "custo de uma festa, que:\n",
        "\n",
        "Comida custa $25 por pessoa (pp)\n",
        "Bebida por ser suco, sendo $5 pp com 5%\n",
        "de desconto na conta, ou Alcoólica,\n",
        "se $20 pp\n",
        "E decoração pode ser normal, sendo $30\n",
        "para mesa e $7.5 de lembranças por\n",
        "pessoa. Ou Diferenciada, sendo $50 fixo\n",
        "mais $10 por pessoa.\n",
        "\"\"\"\n",
        "class CalculadoraFesta:\n",
        "    def __init__(self):\n",
        "        self.custo_comida = 25\n",
        "        self.custo_bebida_saudavel = 5\n",
        "        self.custo_bebida_alcool = 20\n",
        "        self.desconto_bebida = 0.05\n",
        "        self.custo_decoracao_normal_mesa = 30\n",
        "        self.custo_decoracao_normal_lembrancas = 7.5\n",
        "        self.custo_decoracao_diferenciada_fixo = 50\n",
        "        self.custo_decoracao_diferenciada_pessoa = 10\n",
        "\n",
        "    def calcular_custo_festa(self, num_pessoas, bebida_alcoolica, decoracao_diferenciada):\n",
        "        custo_total = 0\n",
        "\n",
        "        # Calcula o custo da comida\n",
        "        custo_comida = self.custo_comida * num_pessoas\n",
        "        custo_total += custo_comida\n",
        "\n",
        "        # Calcula o custo da bebida\n",
        "        if bebida_alcoolica:\n",
        "            custo_bebida = self.custo_bebida_alcool * num_pessoas\n",
        "        else:\n",
        "            custo_bebida = (self.custo_bebida_saudavel * num_pessoas) * (1 - self.desconto_bebida)\n",
        "        custo_total += custo_bebida\n",
        "\n",
        "        # Calcula o custo da decoração\n",
        "        if decoracao_diferenciada:\n",
        "            custo_decoracao = self.custo_decoracao_diferenciada_fixo + (self.custo_decoracao_diferenciada_pessoa * num_pessoas)\n",
        "        else:\n",
        "            custo_decoracao = self.custo_decoracao_normal_mesa + (self.custo_decoracao_normal_lembrancas * num_pessoas)\n",
        "        custo_total += custo_decoracao\n",
        "\n",
        "        return custo_total\n",
        "\n",
        "calculadora = CalculadoraFesta()\n",
        "custo_total = calculadora.calcular_custo_festa(50, False, True)\n",
        "print(\"O custo total da festa é:\", custo_total)"
      ],
      "metadata": {
        "colab": {
          "base_uri": "https://localhost:8080/"
        },
        "id": "SbK8ePJKPJcd",
        "outputId": "1a73206d-6f4e-4264-c730-ea4f4c78530f"
      },
      "execution_count": 15,
      "outputs": [
        {
          "output_type": "stream",
          "name": "stdout",
          "text": [
            "O custo total da festa é: 2037.5\n"
          ]
        }
      ]
    },
    {
      "cell_type": "code",
      "source": [
        "# Exercício 2\n",
        "# Calc. de Festa de Aniversário\n",
        "\"\"\"\n",
        "O Buffet agora está expandindo suas atividades e abriu uma nova filial que realiza o\n",
        "serviço de buffet especializado em festas de aniversários. Além dos serviços oferecidos\n",
        "pela matriz, comida, bebida e decoração, a filial oferece bolo de aniversário. O bolo é\n",
        "oferecido em dois tamanhos 8 cm ($40) para festas até 4 pessoas ou 16 cm ($75), para\n",
        "festas maiores. Esse ainda pode ser personalizado, ao custo de $0.25 por caractere, com\n",
        "um mensagem de escolha do cliente (o bolo de 8 cm comporta um texto de até 16\n",
        "caracteres enquanto o de 16 cm, até 40).\n",
        "\"\"\"\n",
        "class CalculadoraFesta:\n",
        "    def __init__(self):\n",
        "        self.custo_comida = 25\n",
        "        self.custo_bebida_saudavel = 5\n",
        "        self.custo_bebida_alcool = 20\n",
        "        self.desconto_bebida = 0.05\n",
        "        self.custo_decoracao_normal_mesa = 30\n",
        "        self.custo_decoracao_normal_lembrancas = 7.5\n",
        "        self.custo_decoracao_diferenciada_fixo = 50\n",
        "        self.custo_decoracao_diferenciada_pessoa = 10\n",
        "        self.custo_bolo_8cm = 40\n",
        "        self.custo_bolo_16cm = 75\n",
        "        self.custo_personalizacao_caractere = 0.25\n",
        "        self.limite_caracteres_bolo_8cm = 16\n",
        "        self.limite_caracteres_bolo_16cm = 40\n",
        "\n",
        "    def calcular_custo_festa(self, num_pessoas, bebida_alcoolica, decoracao_diferenciada, tamanho_bolo=None, mensagem_bolo=\"\"):\n",
        "        custo_total = 0\n",
        "\n",
        "        # Calcula o custo da comida\n",
        "        custo_comida = self.custo_comida * num_pessoas\n",
        "        custo_total += custo_comida\n",
        "\n",
        "        # Calcula o custo da bebida\n",
        "        if bebida_alcoolica:\n",
        "            custo_bebida = self.custo_bebida_alcool * num_pessoas\n",
        "        else:\n",
        "            custo_bebida = (self.custo_bebida_saudavel * num_pessoas) * (1 - self.desconto_bebida)\n",
        "        custo_total += custo_bebida\n",
        "\n",
        "        # Calcula o custo da decoração\n",
        "        if decoracao_diferenciada:\n",
        "            custo_decoracao = self.custo_decoracao_diferenciada_fixo + (self.custo_decoracao_diferenciada_pessoa * num_pessoas)\n",
        "        else:\n",
        "            custo_decoracao = self.custo_decoracao_normal_mesa + (self.custo_decoracao_normal_lembrancas * num_pessoas)\n",
        "        custo_total += custo_decoracao\n",
        "\n",
        "        # Calcula o custo do bolo e personalização, se selecionado\n",
        "        if tamanho_bolo == \"8cm\":\n",
        "            custo_bolo = self.custo_bolo_8cm\n",
        "            limite_caracteres = self.limite_caracteres_bolo_8cm\n",
        "        elif tamanho_bolo == \"16cm\":\n",
        "            custo_bolo = self.custo_bolo_16cm\n",
        "            limite_caracteres = self.limite_caracteres_bolo_16cm\n",
        "        else:\n",
        "            custo_bolo = 0\n",
        "            limite_caracteres = 0\n",
        "\n",
        "        if mensagem_bolo:\n",
        "            caracteres_excedidos = max(len(mensagem_bolo) - limite_caracteres, 0)\n",
        "            custo_personalizacao = caracteres_excedidos * self.custo_personalizacao_caractere\n",
        "            custo_bolo += custo_personalizacao\n",
        "\n",
        "        custo_total += custo_bolo\n",
        "\n",
        "        return custo_total\n",
        "\n",
        "# Criando uma instância da CalculadoraFesta\n",
        "calculadora = CalculadoraFesta()\n",
        "\n",
        "# Exemplo 1: Festa de aniversário com bolo de 8cm e sem personalização\n",
        "num_pessoas = 10\n",
        "bebida_alcoolica = False\n",
        "decoracao_diferenciada = False\n",
        "tamanho_bolo = \"8cm\"\n",
        "mensagem_bolo = \"\"\n",
        "\n",
        "custo_total = calculadora.calcular_custo_festa(num_pessoas, bebida_alcoolica, decoracao_diferenciada, tamanho_bolo, mensagem_bolo)\n",
        "print(\"Custo total da festa:\", custo_total)\n",
        "\n",
        "# Exemplo 2: Festa de aniversário com bolo de 16cm e personalização\n",
        "num_pessoas = 20\n",
        "bebida_alcoolica = True\n",
        "decoracao_diferenciada = True\n",
        "tamanho_bolo = \"16cm\"\n",
        "mensagem_bolo = \"Feliz Aniversário!\"\n",
        "\n",
        "custo_total = calculadora.calcular_custo_festa(num_pessoas, bebida_alcoolica, decoracao_diferenciada, tamanho_bolo, mensagem_bolo)\n",
        "print(\"Custo total da festa:\", custo_total)"
      ],
      "metadata": {
        "colab": {
          "base_uri": "https://localhost:8080/"
        },
        "id": "cgC51Rl6P1Nv",
        "outputId": "17cd4fce-c8f3-4652-8fa8-37a0042f1339"
      },
      "execution_count": 16,
      "outputs": [
        {
          "output_type": "stream",
          "name": "stdout",
          "text": [
            "Custo total da festa: 442.5\n",
            "Custo total da festa: 1225.0\n"
          ]
        }
      ]
    }
  ]
}