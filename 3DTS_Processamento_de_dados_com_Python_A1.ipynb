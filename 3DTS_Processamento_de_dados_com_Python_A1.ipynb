{
  "nbformat": 4,
  "nbformat_minor": 0,
  "metadata": {
    "colab": {
      "provenance": [],
      "toc_visible": true,
      "authorship_tag": "ABX9TyOMTb/l4SVmi7h6SSmxKral",
      "include_colab_link": true
    },
    "kernelspec": {
      "name": "python3",
      "display_name": "Python 3"
    },
    "language_info": {
      "name": "python"
    }
  },
  "cells": [
    {
      "cell_type": "markdown",
      "metadata": {
        "id": "view-in-github",
        "colab_type": "text"
      },
      "source": [
        "<a href=\"https://colab.research.google.com/github/ersjunior/3DTS-DataProcessingWithPython/blob/main/3DTS_Processamento_de_dados_com_Python_A1.ipynb\" target=\"_parent\"><img src=\"https://colab.research.google.com/assets/colab-badge.svg\" alt=\"Open In Colab\"/></a>"
      ]
    },
    {
      "cell_type": "markdown",
      "source": [
        "#Introdução ao Python - MBA Data Science & Intelligence Artificial"
      ],
      "metadata": {
        "id": "P1thfaixppDr"
      }
    },
    {
      "cell_type": "code",
      "execution_count": 1,
      "metadata": {
        "colab": {
          "base_uri": "https://localhost:8080/"
        },
        "id": "gRCk8IzRn_6o",
        "outputId": "9564257c-f0e1-483f-d596-5a7aa5fdef3f"
      },
      "outputs": [
        {
          "output_type": "stream",
          "name": "stdout",
          "text": [
            "Hello World\n"
          ]
        }
      ],
      "source": [
        "# Iniciando em programação\n",
        "# fazendo o primeiro programa\n",
        "# Imprimindo o Hello World\n",
        "print(\"Hello World\")"
      ]
    },
    {
      "cell_type": "markdown",
      "source": [
        "#Programando em Python - Operadores Lógicos"
      ],
      "metadata": {
        "id": "iRxLRNibqCw5"
      }
    },
    {
      "cell_type": "code",
      "source": [
        "\"\"\"\n",
        "▪ Atribuição é '='\n",
        "  Para atribuir um dado à uma variável usa-se = \n",
        "-------------------------------------------------\n",
        "▪ Operadores Matemáticos\n",
        "+ adiação\n",
        "- subtração\n",
        "* multiplicação\n",
        "/ divisão\n",
        "** exponenciação\n",
        "-------------------------------------------------\n",
        "▪ Operadores Lógicos\n",
        "And E\n",
        "OR OU\n",
        "Not Nao\n",
        "-------------------------------------------------\n",
        "▪ Operadores Relacionais\n",
        "==, !=, >, >=, < , <=, \n",
        "\"\"\""
      ],
      "metadata": {
        "id": "fuThTX76pol8"
      },
      "execution_count": null,
      "outputs": []
    },
    {
      "cell_type": "markdown",
      "source": [
        "#Programando em Python - Funções"
      ],
      "metadata": {
        "id": "8bP-vcZGrLTF"
      }
    },
    {
      "cell_type": "code",
      "source": [
        "# Exemplo de variável\n",
        "x=1\n",
        "y=2\n",
        "s=x+y\n",
        "print(s)"
      ],
      "metadata": {
        "colab": {
          "base_uri": "https://localhost:8080/"
        },
        "id": "zTHvz8mKrPOo",
        "outputId": "0c1b7a13-5bca-46b4-97ac-25a603147aeb"
      },
      "execution_count": 5,
      "outputs": [
        {
          "output_type": "stream",
          "name": "stdout",
          "text": [
            "3\n"
          ]
        }
      ]
    },
    {
      "cell_type": "code",
      "source": [
        "# Criando uma função para fazer a soma acima\n",
        "# Declaração funções:\n",
        "# use a palavra def\n",
        "# agrupando blocos de linhas de código com “:” e <tab>\n",
        "# para retornar o valor use a função return()\n",
        "def somar(x,y):\n",
        "    s = x+y\n",
        "    return(s)\n",
        "  \n",
        "# Usando a função\n",
        "somar(14,10)"
      ],
      "metadata": {
        "colab": {
          "base_uri": "https://localhost:8080/"
        },
        "id": "XsNAANvkr_Th",
        "outputId": "938af3e3-11b1-4699-fedd-1fde5a58a5dd"
      },
      "execution_count": 11,
      "outputs": [
        {
          "output_type": "execute_result",
          "data": {
            "text/plain": [
              "24"
            ]
          },
          "metadata": {},
          "execution_count": 11
        }
      ]
    },
    {
      "cell_type": "code",
      "source": [
        "# Outro exemplo de uso da função criada\n",
        "a=45\n",
        "b=65\n",
        "s=somar(a,b)\n",
        "print(s)"
      ],
      "metadata": {
        "colab": {
          "base_uri": "https://localhost:8080/"
        },
        "id": "nJQUFL6_s2YK",
        "outputId": "2a26a969-c300-43c1-8cd4-1b4e36524270"
      },
      "execution_count": 12,
      "outputs": [
        {
          "output_type": "stream",
          "name": "stdout",
          "text": [
            "110\n"
          ]
        }
      ]
    },
    {
      "cell_type": "markdown",
      "source": [
        "* Função com estrutura condicional"
      ],
      "metadata": {
        "id": "vhMo72b-uUS6"
      }
    },
    {
      "cell_type": "code",
      "source": [
        "# Criando uma função com estrutura condicional para \n",
        "# Analisar a situação do aluno de acordo com sua nota e frequencia\n",
        "\n",
        "def aprovacao(nota,freq):\n",
        "    if (nota >= 7 and freq >= 0.75):\n",
        "        return('Aprovado')\n",
        "    else:\n",
        "        return('Reprovado')\n",
        "\n",
        "# Usando a função criada\n",
        "aprov = aprovacao(8, 0.9)\n",
        "print(aprov)"
      ],
      "metadata": {
        "colab": {
          "base_uri": "https://localhost:8080/"
        },
        "id": "I42uAGFns4Fj",
        "outputId": "3bd3dce6-cb37-4472-9ac1-bdb423b6a7af"
      },
      "execution_count": 13,
      "outputs": [
        {
          "output_type": "stream",
          "name": "stdout",
          "text": [
            "Aprovado\n"
          ]
        }
      ]
    },
    {
      "cell_type": "markdown",
      "source": [
        "#Programando em Python - Estrutura de Repetição"
      ],
      "metadata": {
        "id": "m7TOY4QWufHv"
      }
    },
    {
      "cell_type": "code",
      "source": [
        "# Criando uma estrutura de repetição\n",
        "# A estrutura irá receber 10 números, digitados pelo usuário\n",
        "# Ao final, irá somar os números inseridos\n",
        "soma=0\n",
        "for i in range(1,11,1):\n",
        "    n = int(input('Digite o número: '))\n",
        "    soma = soma + n\n",
        "\n",
        "print(soma)"
      ],
      "metadata": {
        "colab": {
          "base_uri": "https://localhost:8080/"
        },
        "id": "g0ttu7Z0umkP",
        "outputId": "2cf7dba0-0b9a-4172-e964-848a7a874127"
      },
      "execution_count": 14,
      "outputs": [
        {
          "output_type": "stream",
          "name": "stdout",
          "text": [
            "Digite o número: 15\n",
            "Digite o número: 27\n",
            "Digite o número: 4\n",
            "Digite o número: 6\n",
            "Digite o número: 8\n",
            "Digite o número: 11\n",
            "Digite o número: 2\n",
            "Digite o número: 17\n",
            "Digite o número: 0\n",
            "Digite o número: 5\n",
            "95\n"
          ]
        }
      ]
    },
    {
      "cell_type": "markdown",
      "source": [
        "* Outro exemplo de estrutura de repetição"
      ],
      "metadata": {
        "id": "o0m-TkqywH7B"
      }
    },
    {
      "cell_type": "code",
      "source": [
        "# Criando uma estrutura de repetição para calcular a média das notas da turma\n",
        "# A estrutura irá fazer a soma de todas as notas \n",
        "# Depois irá dividir pela quantidade de notas\n",
        "\n",
        "def media_turma():\n",
        "    notas = [5,5,6,6,7,7,8,8,9,9]\n",
        "    soma = 0\n",
        "    for i in range(0, 10, 1):\n",
        "        soma = soma + notas[i]\n",
        "    return(soma/len(notas))\n",
        "\n",
        "# Usando a função\n",
        "media = media_turma()\n",
        "print(media)"
      ],
      "metadata": {
        "colab": {
          "base_uri": "https://localhost:8080/"
        },
        "id": "9hvi86MNwHZe",
        "outputId": "27b98b10-ffe4-4745-9c5c-0a65ddf0a441"
      },
      "execution_count": 15,
      "outputs": [
        {
          "output_type": "stream",
          "name": "stdout",
          "text": [
            "7.0\n"
          ]
        }
      ]
    },
    {
      "cell_type": "markdown",
      "source": [
        "* Continuando a Aula - Função Alta Ordem"
      ],
      "metadata": {
        "id": "xOvcjTE4zVON"
      }
    },
    {
      "cell_type": "code",
      "source": [
        "def Calculadora(f, x, y):\n",
        "    r = f(x,y)\n",
        "    return(r)\n",
        "\n",
        "def somar(x,y):\n",
        "  s=x+y\n",
        "  return s\n",
        "\n",
        "ss = Calculadora(somar, 5, 2)\n",
        "print(ss)"
      ],
      "metadata": {
        "colab": {
          "base_uri": "https://localhost:8080/"
        },
        "id": "CVinUCS8ylLK",
        "outputId": "edad23dd-b991-40cf-c33e-d7ab3d097708"
      },
      "execution_count": 23,
      "outputs": [
        {
          "output_type": "stream",
          "name": "stdout",
          "text": [
            "7\n"
          ]
        }
      ]
    },
    {
      "cell_type": "markdown",
      "source": [
        "# Exercício 1\n",
        "\n",
        "* 1) Calcule a nota final, dado que AP1 e AP2 tem peso 40% e AP3 20%"
      ],
      "metadata": {
        "id": "ry7QiOCO1wsU"
      }
    },
    {
      "cell_type": "code",
      "source": [
        "def cal_nota(AP1,AP2,AP3): \n",
        "  x=AP1*0.4+AP2*0.4+AP3*0.2 \n",
        "  return x\n",
        "\n",
        "a1=float(input(\"Digite a nota da AP1: \"))\n",
        "a2=float(input(\"Digite a nota da AP2: \"))\n",
        "a3=float(input(\"Digite a nota da AP3: \"))\n",
        "nota = cal_nota(a1, a2, a3)\n",
        "print(\"A média do aluno é: \",round(nota,2))"
      ],
      "metadata": {
        "colab": {
          "base_uri": "https://localhost:8080/"
        },
        "id": "IakkLk84zoLz",
        "outputId": "b539fda8-c501-40e7-e868-692c771591fe"
      },
      "execution_count": 54,
      "outputs": [
        {
          "output_type": "stream",
          "name": "stdout",
          "text": [
            "Digite a nota da AP1: 8\n",
            "Digite a nota da AP2: 4\n",
            "Digite a nota da AP3: 9\n",
            "A média do aluno é:  6.6\n"
          ]
        }
      ]
    },
    {
      "cell_type": "markdown",
      "source": [
        "#Exercício 2\n",
        "\n",
        "* 2) Calcule a nota como conceito, com sendo A (maior que 9),\n",
        "B (entre 7 e 9), D (entre 5 e 7), F (abaixo disto) \n"
      ],
      "metadata": {
        "id": "onhb86dw4Vbn"
      }
    },
    {
      "cell_type": "code",
      "source": [
        "def calcular_nota_conceito(nota): \n",
        "  if nota >= 9: \n",
        "    return \"A\" \n",
        "  elif nota < 9 and nota >= 7: \n",
        "    return \"B\" \n",
        "  elif nota < 7 and nota >= 5: \n",
        "    return \"D\" \n",
        "  else: \n",
        "    return \"F\" \n",
        "    \n",
        "nota = calcular_nota_conceito(float(input(\"Informe sua nota: \"))) \n",
        "print(nota)"
      ],
      "metadata": {
        "colab": {
          "base_uri": "https://localhost:8080/"
        },
        "id": "IsVeaOET4aqX",
        "outputId": "bb7c443b-f228-4d62-ece9-575d2832aa8a"
      },
      "execution_count": 57,
      "outputs": [
        {
          "output_type": "stream",
          "name": "stdout",
          "text": [
            "Informe sua nota: 9\n",
            "A\n"
          ]
        }
      ]
    },
    {
      "cell_type": "markdown",
      "source": [
        "# Exercício 3\n",
        "* 3) Calcular o imposto de renda devido com base no salário mensal e\n",
        "regra da Receita Federal\n",
        "![Screenshot 2023-05-02 at 5.39.36 PM.png](data:image/png;base64,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)\n",
        "\n"
      ],
      "metadata": {
        "id": "meCfA6kt7MUx"
      }
    },
    {
      "cell_type": "code",
      "source": [
        "salario = float(input('Qual o salário? '))\n",
        "def irrf(salario):\n",
        "  if salario >= 3743.19:\n",
        "    return(f'O salário é {salario}, a alíquota é {round((salario * 27.5 / 100),2)} e a dedução é {round((salario * 27.5 / 100) - 692.78,2)}')\n",
        "  elif salario < 3743.19 or salario >= 2995.71:\n",
        "    return(f'O salário é {salario}, a alíquota é {round((salario * 22.5 / 100),2)} e a dedução é {round((salario * 27.5 / 100)- 505.62,2)}')\n",
        "  elif salario < 2995.71 or salario >= 2246.76:\n",
        "    return(f'O salário é {salario}, a alíquota é {round((salario * 15.0 / 100),2)} e a dedução é {round((salario * 27.5 / 100) - 280.94,2)}')\n",
        "  elif salario < 2246.76 or salario >= 1499.16:\n",
        "    return(f'O salário é {salario}, a alíquota é {round((salario * 7.5 / 100),2)} e a dedução é {round((salario * 27.5 / 100) - 112.43,2)}')\n",
        "  else:\n",
        "    return(f'O salário é {salario} e está isento dedução')\n",
        "\n",
        "irrf(salario)"
      ],
      "metadata": {
        "colab": {
          "base_uri": "https://localhost:8080/",
          "height": 53
        },
        "id": "TQyYW2Fu7RhQ",
        "outputId": "01717474-2747-4c4c-a4f1-62a1dfde16a9"
      },
      "execution_count": 152,
      "outputs": [
        {
          "name": "stdout",
          "output_type": "stream",
          "text": [
            "Qual o salário? 3743.19\n"
          ]
        },
        {
          "output_type": "execute_result",
          "data": {
            "text/plain": [
              "'O salário é 3743.19, a alíquota é 1029.38 e a dedução é 336.6'"
            ],
            "application/vnd.google.colaboratory.intrinsic+json": {
              "type": "string"
            }
          },
          "metadata": {},
          "execution_count": 152
        }
      ]
    },
    {
      "cell_type": "markdown",
      "source": [
        "#Exercício a parte\n",
        "* Fazendo uma tabuada"
      ],
      "metadata": {
        "id": "pbRX8jQCxtJv"
      }
    },
    {
      "cell_type": "code",
      "source": [
        "def tabuada():\n",
        "  t = int(input('Qual tabuada deseja ver? \\n'))\n",
        "  for i in range(1,11):\n",
        "    r = f'{t}x{i}={t*i}'\n",
        "    print(r)\n",
        "  return ''\n",
        "\n",
        "# Usando a função\n",
        "print(tabuada())"
      ],
      "metadata": {
        "colab": {
          "base_uri": "https://localhost:8080/"
        },
        "id": "OxU3D4QkxDbI",
        "outputId": "9d0523bd-665a-4982-8d1d-f9d649d74bc9"
      },
      "execution_count": 122,
      "outputs": [
        {
          "output_type": "stream",
          "name": "stdout",
          "text": [
            "Qual tabuada deseja ver? \n",
            "5\n",
            "5x1=5\n",
            "5x2=10\n",
            "5x3=15\n",
            "5x4=20\n",
            "5x5=25\n",
            "5x6=30\n",
            "5x7=35\n",
            "5x8=40\n",
            "5x9=45\n",
            "5x10=50\n",
            "\n"
          ]
        }
      ]
    },
    {
      "cell_type": "markdown",
      "source": [
        "#Novos Exercícios - Geral"
      ],
      "metadata": {
        "id": "IaKaI-FvOBTy"
      }
    },
    {
      "cell_type": "code",
      "source": [
        "'''\n",
        "A3) Escreva um algoritmo que resolva uma equação do 1º Grau. \n",
        "Admita que a expressão “Ax + B = 0” sempre seja válida, \n",
        "ou seja, “A” sempre será um número distinto de zero\n",
        "'''\n",
        "a=int(input(\"Digite o valor de A: \"))\n",
        "b=int(input(\"Digite o valor de B: \"))\n",
        "if(a==0):\n",
        "  print(\"Erro\")\n",
        "else:\n",
        "  x=b/(-a)\n",
        "print(x)"
      ],
      "metadata": {
        "colab": {
          "base_uri": "https://localhost:8080/"
        },
        "id": "yZyd7dOLOHFf",
        "outputId": "8ebef6e6-22d8-49de-b91d-0192fb359c3d"
      },
      "execution_count": 124,
      "outputs": [
        {
          "output_type": "stream",
          "name": "stdout",
          "text": [
            "Digite o valor de A: 3\n",
            "Digite o valor de B: 3\n",
            "-1.0\n"
          ]
        }
      ]
    },
    {
      "cell_type": "code",
      "source": [
        "'''\n",
        "A5) Escreva um algoritmo que resolva uma equação do 2° grau. \n",
        "Admita que a expressão \"Ax^2 + Bx + C = 0\" \n",
        "quais são as duas raizes?\n",
        "'''\n",
        "def equacao_segundo_grau(a, b, c):\n",
        "  delta=b**2 - 4*a*c\n",
        "  if delta < 0:\n",
        "    return None\n",
        "  elif delta==0:\n",
        "    return -b/(2*a)\n",
        "  else: \n",
        "    x1 = (-b + delta**(1/2)) / (2*a) \n",
        "    x2 = (-b - delta**(1/2)) / (2*a) \n",
        "  return x1, x2\n",
        "\n",
        "print(equacao_segundo_grau(1, -1, -30))"
      ],
      "metadata": {
        "colab": {
          "base_uri": "https://localhost:8080/"
        },
        "id": "8vugDMDyP5cY",
        "outputId": "dfff9b9b-6c23-406a-ecf4-d3d7fcee47bd"
      },
      "execution_count": 130,
      "outputs": [
        {
          "output_type": "stream",
          "name": "stdout",
          "text": [
            "(6.0, -5.0)\n"
          ]
        }
      ]
    },
    {
      "cell_type": "markdown",
      "source": [
        "* Uma loja apresenta um cartaz de um produto indicando o valor a\n",
        "vista, em comparação ao valor parcelado em 2 vezes (para 30 e 60\n",
        "dias), mas não cumpre a resolução do Banco Central de apresentar a\n",
        "taxa de juros embutida\n",
        "bcb.gov.br/pre/normativos/busca/downloadNormativo.asp?arquivo=/L\n",
        "ists/Normativos/Attachments/48005/Res_3517_v1_O.pdf Crie uma\n",
        "função que dado valor a vista, o valor das parcelas, calcule o juros\n",
        "deste financiamento Atenção: Existem ao menos duas formas de\n",
        "resolução, uma de maneira algébrica, ou seja, desenvolva a equação.\n",
        "E outra de maneira por aproximação, seu programa vai testando\n",
        "soluções (não aleatórias) que vai se aproximando do resultado\n",
        "correto. Para esta opção, até 0.3% de erro no seu cálculo é aceito.\n",
        "Desafio: Utilizando o método de aproximação como solução, estenda\n",
        "seu programa para ao invés de trabalhar com apenas 2 parcelas,\n",
        "trabalhe com N.\n"
      ],
      "metadata": {
        "id": "mv8X9bxSTBcI"
      }
    },
    {
      "cell_type": "code",
      "source": [
        "def calcular_taxa_juros(valor_vista, parcelas, n):\n",
        "    \"\"\"Calcula a taxa de juros embutida em um financiamento com parcelamento em N vezes.\n",
        "    \n",
        "    Args:\n",
        "    valor_vista (float): Valor do produto à vista.\n",
        "    parcelas (float): Valor das parcelas.\n",
        "    n (int): Número de parcelas.\n",
        "    \n",
        "    Returns:\n",
        "    float: Taxa de juros embutida no financiamento, em porcentagem ao ano.\n",
        "    \"\"\"\n",
        "    # Define a margem de erro permitida\n",
        "    margem_erro = 0.003\n",
        "    \n",
        "    # Define um valor inicial para a taxa de juros\n",
        "    taxa_juros = 0.01\n",
        "    \n",
        "    # Define um valor máximo para a taxa de juros\n",
        "    taxa_maxima = 100.0\n",
        "    \n",
        "    # Inicia o loop de aproximação da taxa de juros\n",
        "    while True:\n",
        "        # Calcula o valor total do financiamento com a taxa de juros atual\n",
        "        valor_total = parcelas * (((1 + taxa_juros)**n - 1) / (taxa_juros * (1 + taxa_juros)**n))\n",
        "        \n",
        "        # Calcula a diferença entre o valor total e o valor à vista\n",
        "        diferenca = valor_total - valor_vista\n",
        "        \n",
        "        # Verifica se a diferença está dentro da margem de erro permitida\n",
        "        if abs(diferenca / valor_vista) <= margem_erro:\n",
        "            # Se estiver, retorna a taxa de juros encontrada\n",
        "            return taxa_juros * 100\n",
        "        \n",
        "        # Se não estiver, atualiza a taxa de juros e verifica se ela não ultrapassou o valor máximo\n",
        "        taxa_juros = taxa_juros * (1 + diferenca / valor_vista)\n",
        "        if taxa_juros > taxa_maxima:\n",
        "            raise ValueError(\"Não foi possível encontrar uma taxa de juros dentro da margem de erro permitida.\")\n",
        "\n",
        "# Usando a função\n",
        "valor_vista = 100.0\n",
        "parcelas = 60.0\n",
        "n = 2\n",
        "taxa_juros = calcular_taxa_juros(valor_vista, parcelas, n)\n",
        "print(f\"Taxa de juros: {taxa_juros:.2f}%\")"
      ],
      "metadata": {
        "colab": {
          "base_uri": "https://localhost:8080/"
        },
        "id": "v4DxWtQZTE_I",
        "outputId": "38fe27e6-4328-48da-9f43-ddec3a19d432"
      },
      "execution_count": 148,
      "outputs": [
        {
          "output_type": "stream",
          "name": "stdout",
          "text": [
            "Taxa de juros: 12.86%\n"
          ]
        }
      ]
    }
  ]
}